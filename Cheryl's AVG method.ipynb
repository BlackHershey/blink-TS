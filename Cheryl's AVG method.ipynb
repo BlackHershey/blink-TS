{
 "cells": [
  {
   "cell_type": "code",
   "execution_count": 1,
   "metadata": {
    "collapsed": true
   },
   "outputs": [],
   "source": [
    "# Author(s): Haley Botteron, Haley Acevedo\n",
    "%matplotlib inline\n",
    "import matplotlib.pyplot as plt\n",
    "import pylab\n",
    "import numpy as np\n",
    "import csv\n",
    "from pylab import plot, ylim, xlim, show, xlabel, ylabel, grid"
   ]
  },
  {
   "cell_type": "code",
   "execution_count": 4,
   "metadata": {
    "collapsed": true
   },
   "outputs": [],
   "source": [
    "def smashall(a1,a2,a3,a4, a5, col):\n",
    "    arrayofarrays=[a1,a2,a3,a4,a5]\n",
    "    finalarray = []\n",
    "    for x in range (0,5):\n",
    "        for y in range (0,360):\n",
    "            finalarray.append((arrayofarrays[x])[y,col])\n",
    "    return finalarray\n",
    "def avgFit(name):\n",
    "    filename = name + '_parameters.txt'\n",
    "    with open (filename, 'rb') as datafile:\n",
    "        parameters = np.genfromtxt(datafile, delimiter = '\\t', names=True,dtype=None)\n",
    "    # Read in discomfort Values\n",
    "    filename = \"ResampledBlinks\" +name + '_Trial1OK.txt'\n",
    "    with open (filename, 'rb') as datafile:\n",
    "        data1 = np.genfromtxt(datafile, delimiter = '\\t', dtype=None)\n",
    "    filename = \"ResampledBlinks\" +name + '_Trial2OK.txt'\n",
    "    with open (filename, 'rb') as datafile:\n",
    "        data2 = np.genfromtxt(datafile, delimiter = '\\t', dtype=None)\n",
    "    filename = \"ResampledBlinks\" +name + '_Trial3OK.txt'\n",
    "    with open (filename, 'rb') as datafile:\n",
    "        data3 = np.genfromtxt(datafile, delimiter = '\\t', dtype=None)\n",
    "    filename = \"ResampledBlinks\" +name + '_Trial4OK.txt'\n",
    "    with open (filename, 'rb') as datafile:\n",
    "        data4 = np.genfromtxt(datafile, delimiter = '\\t', dtype=None)\n",
    "    filename = \"ResampledBlinks\" +name + '_Trial5OK.txt'\n",
    "    with open (filename, 'rb') as datafile:\n",
    "        data5 = np.genfromtxt(datafile, delimiter = '\\t',dtype=None)\n",
    "        \n",
    "    bigDataX= smashall(data1,data2,data3,data4,data5,0)\n",
    "    bigDataY= smashall(data1,data2,data3,data4,data5,1)\n",
    "\n",
    "    y= np.asarray(bigDataY)\n",
    "    #print len(y)\n",
    "    #print len(y[:360]),len(y[359:720]),len(y[719:1080]), len(y[1079:1440]),len (y[1439:1800])\n",
    "    \n",
    "    avg = np.mean((y[:360],y[360:720],y[720:1080], y[1080:1440],y[-360:]), axis=0 )\n",
    "    plot(bigDataX[:360],avg)\n",
    "    return avg"
   ]
  },
  {
   "cell_type": "code",
   "execution_count": 9,
   "metadata": {},
   "outputs": [
    {
     "data": {
      "image/png": "[encoded data removed]",
      "text/plain": [
       "<matplotlib.figure.Figure at 0x7fd776b5d350>"
      ]
     },
     "metadata": {},
     "output_type": "display_data"
    }
   ],
   "source": [
    "avgFit(\"TM101\")"
   ]
  },
  {
   "cell_type": "code",
   "execution_count": null,
   "metadata": {
    "collapsed": true
   },
   "outputs": [],
   "source": []
  }
 ],
 "metadata": {
  "kernelspec": {
   "display_name": "Python 2",
   "language": "python",
   "name": "python2"
  },
  "language_info": {
   "codemirror_mode": {
    "name": "ipython",
    "version": 2
   },
   "file_extension": ".py",
   "mimetype": "text/x-python",
   "name": "python",
   "nbconvert_exporter": "python",
   "pygments_lexer": "ipython2",
   "version": "2.7.15"
  }
 },
 "nbformat": 4,
 "nbformat_minor": 2
}
