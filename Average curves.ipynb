{
 "cells": [
  {
   "cell_type": "code",
   "execution_count": 1,
   "metadata": {},
   "outputs": [
    {
     "data": {
      "text/plain": [
       "<Figure size 640x480 with 1 Axes>"
      ]
     },
     "metadata": {},
     "output_type": "display_data"
    },
    {
     "data": {
      "text/plain": [
       "(0.9627276599159128, 2.1941003185933504e-205)"
      ]
     },
     "execution_count": 1,
     "metadata": {},
     "output_type": "execute_result"
    }
   ],
   "source": [
    "# Author(s): Haley Botteron, Haley Acevedo\n",
    "import matplotlib.pyplot as plt\n",
    "import numpy as np\n",
    "import scipy as scipy\n",
    "from scipy import stats\n",
    "from glob import glob\n",
    "\n",
    "def get_combined_data_array(file_list):\n",
    "    return [ np.genfromtxt(f, usecols=1) for f in file_list ] # pull out values from second column of each file\n",
    "\n",
    "def get_average_curve(all_subj_data):\n",
    "    return np.mean(all_subj_data, axis=0) # axis argument tells it to average across rows (by timepoint, rather than by subject or all values)\n",
    "\n",
    "def get_min_curve(all_subj_data):\n",
    "    return np.min(all_subj_data, axis = 0)\n",
    "def get_max_curve(all_subj_data):\n",
    "    return np.max(all_subj_data, axis = 0)\n",
    "\n",
    "\n",
    "discomfort_curve_files = glob('ResampledDiscomfort*AvgTrials.txt') # get all files in current directory matching pattern\n",
    "all_subj_discomfort = get_combined_data_array(discomfort_curve_files)\n",
    "avg_discomfort = get_average_curve(all_subj_discomfort)\n",
    "min_discomfort = get_min_curve(all_subj_discomfort)\n",
    "max_discomfort = get_max_curve(all_subj_discomfort)\n",
    "\n",
    "effort_curve_files = glob('ResampledEffort*AvgTrials.txt')\n",
    "all_subj_effort = get_combined_data_array(effort_curve_files)\n",
    "avg_effort = get_average_curve(all_subj_effort)\n",
    "min_effort = get_min_curve(all_subj_effort)\n",
    "max_effort = get_max_curve(all_subj_effort)\n",
    "\n",
    "\n",
    "# assuming all of the files have the same time bins, grab the x-axis from the one of them\n",
    "time = np.genfromtxt(discomfort_curve_files[0], usecols=0)\n",
    "\n",
    "plt.plot(time, avg_discomfort, '-', label='avg discomfort')\n",
    "plt.plot(time, avg_effort, '--', label='avg effort')\n",
    "plt.plot(time, min_effort, '--', label='min effort',color = '0.5')\n",
    "plt.plot(time, max_effort, '--', label='max effort',color = '0.5')\n",
    "plt.plot(time, min_discomfort, '-', label='min discomfort',color = '0.5')\n",
    "plt.plot(time, max_discomfort, '-', label='max discomfort',color = '0.5')\n",
    "plt.legend()\n",
    "plt.show()\n",
    "\n",
    "\n",
    "scipy.stats.pearsonr(avg_effort, avg_discomfort)\n",
    "\n",
    "\n",
    "\n"
   ]
  },
  {
   "cell_type": "code",
   "execution_count": 2,
   "metadata": {},
   "outputs": [
    {
     "data": {
      "image/png": "[encoded data removed]",
      "text/plain": [
       "<Figure size 432x288 with 1 Axes>"
      ]
     },
     "metadata": {},
     "output_type": "display_data"
    },
    {
     "data": {
      "text/plain": [
       "(0.9624505749439046, 8.057167173642225e-205)"
      ]
     },
     "execution_count": 2,
     "metadata": {},
     "output_type": "execute_result"
    }
   ],
   "source": [
    "import matplotlib.pyplot as plt\n",
    "import numpy as np\n",
    "import scipy as scipy\n",
    "from scipy import stats\n",
    "from glob import glob\n",
    "\n",
    "def get_combined_data_array(file_list):\n",
    "    return [ np.genfromtxt(f, usecols=1) for f in file_list if 'TM209' not in f ] # pull out values from second column of each file\n",
    "\n",
    "def get_average_curve(all_subj_data):\n",
    "    return np.mean(all_subj_data, axis=0) # axis argument tells it to average across rows (by timepoint, rather than by subject or all values)\n",
    "\n",
    "def get_min_curve(all_subj_data):\n",
    "    return np.min(all_subj_data, axis = 0)\n",
    "def get_max_curve(all_subj_data):\n",
    "    return np.max(all_subj_data, axis = 0)\n",
    "\n",
    "\n",
    "discomfort_curve_files = glob('ResampledDiscomfort*AvgTrials.txt') # get all files in current directory matching pattern\n",
    "all_subj_discomfort = get_combined_data_array(discomfort_curve_files)\n",
    "avg_discomfort = get_average_curve(all_subj_discomfort)\n",
    "min_discomfort = get_min_curve(all_subj_discomfort)\n",
    "max_discomfort = get_max_curve(all_subj_discomfort)\n",
    "\n",
    "effort_curve_files = glob('ResampledEffort*AvgTrials.txt')\n",
    "all_subj_effort = get_combined_data_array(effort_curve_files)\n",
    "avg_effort = get_average_curve(all_subj_effort)\n",
    "min_effort = get_min_curve(all_subj_effort)\n",
    "max_effort = get_max_curve(all_subj_effort)\n",
    "\n",
    "\n",
    "# assuming all of the files have the same time bins, grab the x-axis from the one of them\n",
    "time = np.genfromtxt(discomfort_curve_files[0], usecols=0)\n",
    "\n",
    "plt.plot(time, avg_discomfort, '-', label='avg discomfort')\n",
    "plt.plot(time, avg_effort, '--', label='avg effort')\n",
    "#plt.plot(time, min_effort, '--', label='min effort',color = '0.5')\n",
    "#plt.plot(time, max_effort, '--', label='max effort',color = '0.5')\n",
    "#plt.plot(time, min_discomfort, '-', label='min discomfort',color = '0.5')\n",
    "#plt.plot(time, max_discomfort, '-', label='max discomfort',color = '0.5')\n",
    "plt.ylabel('Effort/Discomfort')\n",
    "plt.xlabel('Time (s)')\n",
    "plt.legend()\n",
    "plt.show()\n",
    "\n",
    "\n",
    "scipy.stats.pearsonr(avg_effort, avg_discomfort)\n",
    "\n",
    "\n",
    "\n"
   ]
  },
  {
   "cell_type": "code",
   "execution_count": 3,
   "metadata": {},
   "outputs": [
    {
     "name": "stdout",
     "output_type": "stream",
     "text": [
      "29\n",
      "30\n"
     ]
    }
   ],
   "source": [
    "print(len(discomfort_curve_files))\n",
    "print(len(effort_curve_files))"
   ]
  },
  {
   "cell_type": "code",
   "execution_count": 4,
   "metadata": {},
   "outputs": [
    {
     "name": "stdout",
     "output_type": "stream",
     "text": [
      "['TM209']\n"
     ]
    }
   ],
   "source": [
    "import re\n",
    "\n",
    "def get_subjects(file_list):\n",
    "    return [ re.search('(TM\\d{3})Avg', f).group(1) for f in file_list ]\n",
    "\n",
    "print([ s for s in get_subjects(effort_curve_files) if s not in get_subjects(discomfort_curve_files)])"
   ]
  }
 ],
 "metadata": {
  "kernelspec": {
   "display_name": "Python 3",
   "language": "python",
   "name": "python3"
  },
  "language_info": {
   "codemirror_mode": {
    "name": "ipython",
    "version": 2
   },
   "file_extension": ".py",
   "mimetype": "text/x-python",
   "name": "python",
   "nbconvert_exporter": "python",
   "pygments_lexer": "ipython2",
   "version": "2.7.15"
  }
 },
 "nbformat": 4,
 "nbformat_minor": 2
}
